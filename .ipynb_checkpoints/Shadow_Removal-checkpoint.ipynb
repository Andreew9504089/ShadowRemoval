{
 "cells": [
  {
   "cell_type": "code",
   "execution_count": 1,
   "metadata": {
    "executionInfo": {
     "elapsed": 2823,
     "status": "ok",
     "timestamp": 1631892246905,
     "user": {
      "displayName": "許晏誠",
      "photoUrl": "https://lh3.googleusercontent.com/a/default-user=s64",
      "userId": "15153068038467638530"
     },
     "user_tz": -480
    },
    "id": "xebhGJL-Gnim"
   },
   "outputs": [],
   "source": [
    "import numpy as np\n",
    "import cv2\n",
    "import math\n",
    "import statistics as stat\n",
    "from skimage.filters import threshold_otsu\n",
    "  \n",
    "def apply_gamma(image, mean, std, gamma=2):\n",
    "\tinvGamma = 1.0 / gamma\n",
    "\ttable = np.array([(((i / 255.0) ** (invGamma)) * 255) if i < mean else (((i / 255.0) ** (1/1.8)) * 255)\n",
    "\t\tfor i in np.arange(0, 256)]).astype(\"uint8\")\n",
    "\treturn cv2.LUT(image, table)\n",
    "\n",
    "def gamma_correction(image):\n",
    "  hsv = cv2.cvtColor(image, cv2.COLOR_BGR2HSV)\n",
    "  val = hsv[:,:,2]\n",
    "  mean = np.mean(val)\n",
    "  std = np.std(val)\n",
    "  gamma = 2\n",
    "  hsv[:,:,2] = apply_gamma(val, mean, std, gamma = gamma)\n",
    "  final_image = cv2.cvtColor(hsv, cv2.COLOR_HSV2BGR)\n",
    "  return final_image\n",
    "\n",
    "def BGR2c1c2c3(img):\n",
    "  im = img.astype(np.float32)+0.001\n",
    "  c1c2c3 = np.arctan(im/np.dstack((cv2.max(im[...,1], im[...,2]), cv2.max(im[...,0], im[...,2]), cv2.max(im[...,0], im[...,1]))))\n",
    "\n",
    "  return c1c2c3\n",
    "\n",
    "def shadow_detection(image):\n",
    "  image_g = gamma_correction(image)\n",
    "  #c1c2c3 = BGR2c1c2c3(image_g)\n",
    "  #hsv_image = cv2.cvtColor(c1c2c3*255, cv2.COLOR_BGR2HSV)\n",
    "  hsv_image = cv2.cvtColor(image_g, cv2.COLOR_BGR2HSV)\n",
    "  binary_mask = np.zeros_like(hsv_image)\n",
    "  H = hsv_image[:,:,0]\n",
    "  V = hsv_image[:,:,2]\n",
    "  R = (H+1)/(V+1.05)\n",
    "  B1 = 0.5 ** R\n",
    "  threshold = threshold_otsu(B1)\n",
    "  B1 = B1[:,:,np.newaxis]\n",
    "  binary_mask[:,:] = np.where(B1[:,:] > threshold, 0, 255)\n",
    "  binary_mask[:int(B1.shape[0]*(1/3)),:] = [0,0,0]\n",
    "  kernel = cv2.getStructuringElement(cv2.MORPH_ELLIPSE, (3, 3))\n",
    "  binary_mask = cv2.morphologyEx(binary_mask, cv2.MORPH_CLOSE, kernel)\n",
    "\n",
    "  return binary_mask\n",
    "\n",
    "def find_mean_shadowed(lab_image, Smask):\n",
    "  mean_n = [0,0,0]\n",
    "\n",
    "  mask = Smask[:,:,0].flatten()\n",
    "  image = np.zeros((mask.shape[0],3))\n",
    "  image[:,0] = lab_image[:,:,0].flatten()\n",
    "  image[:,1] = lab_image[:,:,1].flatten()\n",
    "  image[:,2] = lab_image[:,:,2].flatten()\n",
    "  idx = mask > 0\n",
    "  mean_n[0] = np.mean(image[idx,0])\n",
    "  mean_n[1] = np.mean(image[idx,1])\n",
    "  mean_n[2] = np.mean(image[idx,2])\n",
    "  return mean_n\n",
    "\n",
    "def find_mean_ROI(image, mask, h=3/4, w=1/3):\n",
    "  mean_n = [0,0,0]\n",
    "  mask = mask[int(image.shape[0]*h):,int(image.shape[1]*w):int(image.shape[1]*2*w),0].flatten()\n",
    "  image = image[int(image.shape[0]*h):,int(image.shape[1]*w):int(image.shape[1]*2*w),:]\n",
    "  img = np.zeros((mask.shape[0],3))\n",
    "  img[:,0] = image[:,:,0].flatten()\n",
    "  img[:,1] = image[:,:,1].flatten()\n",
    "  img[:,2] = image[:,:,2].flatten()\n",
    "  idx = mask == 0\n",
    "  mean_n[0] = np.mean(img[idx,0])\n",
    "  mean_n[1] = np.mean(img[idx,1])\n",
    "  mean_n[2] = np.mean(img[idx,2])\n",
    "  return mean_n\n",
    "\n",
    "def shadow_Compensation(binary_mask, image):\n",
    "  HSV = cv2.cvtColor(image, cv2.COLOR_BGR2HSV)\n",
    "  mean_shadowed = find_mean_shadowed(HSV, binary_mask)\n",
    "  mean_ROI = find_mean_ROI(HSV, binary_mask)\n",
    "  ratio = np.array(mean_ROI)/np.array(mean_shadowed)\n",
    "  diff = np.array(mean_ROI) - np.array(mean_shadowed)\n",
    "  mask = binary_mask[:,:,0].flatten()\n",
    "  idx = mask > 0\n",
    "  hsv = HSV.reshape((mask.shape[0],3))\n",
    "  hsv[idx,:] = hsv[idx,:]*(ratio/3) + mean_ROI*(1-ratio/3)\n",
    "  hsv[idx,2] = hsv[idx,2] + diff[2]/3\n",
    "  hsv = hsv.reshape(HSV.shape)     \n",
    "  final_image = cv2.cvtColor(hsv, cv2.COLOR_HSV2BGR)\n",
    "  return final_image"
   ]
  },
  {
   "cell_type": "code",
   "execution_count": 11,
   "metadata": {
    "colab": {
     "base_uri": "https://localhost:8080/",
     "height": 401
    },
    "executionInfo": {
     "elapsed": 814,
     "status": "ok",
     "timestamp": 1631892466119,
     "user": {
      "displayName": "許晏誠",
      "photoUrl": "https://lh3.googleusercontent.com/a/default-user=s64",
      "userId": "15153068038467638530"
     },
     "user_tz": -480
    },
    "id": "V6BpkOpdXWUE",
    "outputId": "a3fb6e7a-3f8d-49ba-a3ee-ef1ae32f6df9"
   },
   "outputs": [
    {
     "name": "stdout",
     "output_type": "stream",
     "text": [
      "(128, 256, 3)\n"
     ]
    },
    {
     "data": {
      "text/plain": [
       "-1"
      ]
     },
     "execution_count": 11,
     "metadata": {},
     "output_type": "execute_result"
    }
   ],
   "source": [
    "image = cv2.imread('./demo/1.PNG')\n",
    "image = cv2.resize(image,(256,128))\n",
    "image_g = gamma_correction(image)\n",
    "c1c2c3 = BGR2c1c2c3(image_g)\n",
    "hsv = cv2.cvtColor(image_g, cv2.COLOR_BGR2HSV)\n",
    "shadow = shadow_detection(hsv)\n",
    "cv2.imshow(\"0\",shadow)\n",
    "result = shadow_Compensation(shadow, image)\n",
    "cv2.imshow(\"1\",result)\n",
    "print(shadow.shape)\n",
    "cv2.imwrite(\"./demo/result1.jpg\", result)\n",
    "cv2.imwrite(\"./demo/mask1.jpg\", shadow)\n",
    "\n",
    "cv2.waitKey(1000)"
   ]
  },
  {
   "cell_type": "code",
   "execution_count": null,
   "metadata": {},
   "outputs": [],
   "source": []
  }
 ],
 "metadata": {
  "colab": {
   "authorship_tag": "ABX9TyMaM1btUVGadAMTU/UN2KCv",
   "collapsed_sections": [],
   "mount_file_id": "1jWMsR0gBI_FHXYm2CH8OBVhvwFHxSBEi",
   "name": "Shadow_Removal.ipynb",
   "provenance": []
  },
  "kernelspec": {
   "display_name": "Python 3",
   "language": "python",
   "name": "python3"
  },
  "language_info": {
   "codemirror_mode": {
    "name": "ipython",
    "version": 3
   },
   "file_extension": ".py",
   "mimetype": "text/x-python",
   "name": "python",
   "nbconvert_exporter": "python",
   "pygments_lexer": "ipython3",
   "version": "3.6.9"
  }
 },
 "nbformat": 4,
 "nbformat_minor": 1
}
